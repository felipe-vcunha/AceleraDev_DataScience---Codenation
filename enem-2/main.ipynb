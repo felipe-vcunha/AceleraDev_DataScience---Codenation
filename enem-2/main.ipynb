{
 "cells": [
  {
   "cell_type": "markdown",
   "metadata": {},
   "source": [
    "#### Score Final = 93,61%"
   ]
  },
  {
   "cell_type": "markdown",
   "metadata": {},
   "source": [
    "# PREDIÇÃO DAS NOTAS DE MATEMÁTICA DO ENEM 2016"
   ]
  },
  {
   "cell_type": "markdown",
   "metadata": {},
   "source": [
    "Nesse projeto, o objetivo é criar um modelo de Machine Learning para prever a nota da prova de matemática de quem participou do ENEM 2016. Para isso, utilizei Python, Pandas e Sklearn."
   ]
  },
  {
   "cell_type": "code",
   "execution_count": 123,
   "metadata": {},
   "outputs": [],
   "source": [
    "# Importação das libraries\n",
    "import pandas as pd\n",
    "import numpy as np\n",
    "import matplotlib.pyplot as plt\n",
    "import seaborn as sns\n",
    "from sklearn.preprocessing import OneHotEncoder, StandardScaler\n",
    "from sklearn.decomposition import PCA\n",
    "import sklearn.metrics as metrics\n",
    "from sklearn.model_selection import RandomizedSearchCV, KFold, cross_val_score\n",
    "from sklearn.preprocessing import StandardScaler, MinMaxScaler\n",
    "from sklearn.pipeline import Pipeline\n",
    "from sklearn.linear_model import LinearRegression\n",
    "from sklearn.tree import DecisionTreeRegressor, DecisionTreeRegressor\n",
    "from sklearn.neighbors import KNeighborsRegressor\n",
    "from sklearn.ensemble import GradientBoostingRegressor, RandomForestRegressor\n",
    "from sklearn.feature_selection import RFE"
   ]
  },
  {
   "cell_type": "markdown",
   "metadata": {},
   "source": [
    "## Início da exploração geral dos dados"
   ]
  },
  {
   "cell_type": "code",
   "execution_count": 2,
   "metadata": {},
   "outputs": [],
   "source": [
    "# Upload dos datasets\n",
    "enem = pd.read_csv('train.csv')\n",
    "test = pd.read_csv('test.csv')"
   ]
  },
  {
   "cell_type": "code",
   "execution_count": 3,
   "metadata": {},
   "outputs": [
    {
     "data": {
      "text/html": [
       "<div>\n",
       "<style scoped>\n",
       "    .dataframe tbody tr th:only-of-type {\n",
       "        vertical-align: middle;\n",
       "    }\n",
       "\n",
       "    .dataframe tbody tr th {\n",
       "        vertical-align: top;\n",
       "    }\n",
       "\n",
       "    .dataframe thead th {\n",
       "        text-align: right;\n",
       "    }\n",
       "</style>\n",
       "<table border=\"1\" class=\"dataframe\">\n",
       "  <thead>\n",
       "    <tr style=\"text-align: right;\">\n",
       "      <th></th>\n",
       "      <th>Unnamed: 0</th>\n",
       "      <th>NU_INSCRICAO</th>\n",
       "      <th>NU_ANO</th>\n",
       "      <th>CO_MUNICIPIO_RESIDENCIA</th>\n",
       "      <th>NO_MUNICIPIO_RESIDENCIA</th>\n",
       "      <th>CO_UF_RESIDENCIA</th>\n",
       "      <th>SG_UF_RESIDENCIA</th>\n",
       "      <th>NU_IDADE</th>\n",
       "      <th>TP_SEXO</th>\n",
       "      <th>TP_ESTADO_CIVIL</th>\n",
       "      <th>...</th>\n",
       "      <th>Q041</th>\n",
       "      <th>Q042</th>\n",
       "      <th>Q043</th>\n",
       "      <th>Q044</th>\n",
       "      <th>Q045</th>\n",
       "      <th>Q046</th>\n",
       "      <th>Q047</th>\n",
       "      <th>Q048</th>\n",
       "      <th>Q049</th>\n",
       "      <th>Q050</th>\n",
       "    </tr>\n",
       "  </thead>\n",
       "  <tbody>\n",
       "    <tr>\n",
       "      <th>0</th>\n",
       "      <td>1</td>\n",
       "      <td>ed50e8aaa58e7a806c337585efee9ca41f1eb1ad</td>\n",
       "      <td>2016</td>\n",
       "      <td>4314902</td>\n",
       "      <td>Porto Alegre</td>\n",
       "      <td>43</td>\n",
       "      <td>RS</td>\n",
       "      <td>24</td>\n",
       "      <td>M</td>\n",
       "      <td>0.0</td>\n",
       "      <td>...</td>\n",
       "      <td>5.0</td>\n",
       "      <td>A</td>\n",
       "      <td>A</td>\n",
       "      <td>A</td>\n",
       "      <td>A</td>\n",
       "      <td>A</td>\n",
       "      <td>A</td>\n",
       "      <td>A</td>\n",
       "      <td>B</td>\n",
       "      <td>D</td>\n",
       "    </tr>\n",
       "    <tr>\n",
       "      <th>1</th>\n",
       "      <td>2</td>\n",
       "      <td>2c3acac4b33ec2b195d77e7c04a2d75727fad723</td>\n",
       "      <td>2016</td>\n",
       "      <td>2304707</td>\n",
       "      <td>Granja</td>\n",
       "      <td>23</td>\n",
       "      <td>CE</td>\n",
       "      <td>17</td>\n",
       "      <td>F</td>\n",
       "      <td>0.0</td>\n",
       "      <td>...</td>\n",
       "      <td>NaN</td>\n",
       "      <td>A</td>\n",
       "      <td>A</td>\n",
       "      <td>C</td>\n",
       "      <td>A</td>\n",
       "      <td>B</td>\n",
       "      <td>A</td>\n",
       "      <td>A</td>\n",
       "      <td>C</td>\n",
       "      <td>A</td>\n",
       "    </tr>\n",
       "    <tr>\n",
       "      <th>2</th>\n",
       "      <td>3</td>\n",
       "      <td>f4545f8ccb9ff5c8aad7d32951b3f251a26e6568</td>\n",
       "      <td>2016</td>\n",
       "      <td>2304400</td>\n",
       "      <td>Fortaleza</td>\n",
       "      <td>23</td>\n",
       "      <td>CE</td>\n",
       "      <td>21</td>\n",
       "      <td>F</td>\n",
       "      <td>0.0</td>\n",
       "      <td>...</td>\n",
       "      <td>NaN</td>\n",
       "      <td>A</td>\n",
       "      <td>A</td>\n",
       "      <td>A</td>\n",
       "      <td>A</td>\n",
       "      <td>C</td>\n",
       "      <td>A</td>\n",
       "      <td>A</td>\n",
       "      <td>B</td>\n",
       "      <td>A</td>\n",
       "    </tr>\n",
       "    <tr>\n",
       "      <th>3</th>\n",
       "      <td>4</td>\n",
       "      <td>3d6ec248fef899c414e77f82d5c6d2bffbeaf7fe</td>\n",
       "      <td>2016</td>\n",
       "      <td>3304557</td>\n",
       "      <td>Rio de Janeiro</td>\n",
       "      <td>33</td>\n",
       "      <td>RJ</td>\n",
       "      <td>25</td>\n",
       "      <td>F</td>\n",
       "      <td>0.0</td>\n",
       "      <td>...</td>\n",
       "      <td>5.0</td>\n",
       "      <td>C</td>\n",
       "      <td>A</td>\n",
       "      <td>A</td>\n",
       "      <td>A</td>\n",
       "      <td>A</td>\n",
       "      <td>D</td>\n",
       "      <td>A</td>\n",
       "      <td>A</td>\n",
       "      <td>A</td>\n",
       "    </tr>\n",
       "    <tr>\n",
       "      <th>4</th>\n",
       "      <td>5</td>\n",
       "      <td>bf896ac8d3ecadd6dba1dfbf50110afcbf5d3268</td>\n",
       "      <td>2016</td>\n",
       "      <td>1302603</td>\n",
       "      <td>Manaus</td>\n",
       "      <td>13</td>\n",
       "      <td>AM</td>\n",
       "      <td>28</td>\n",
       "      <td>M</td>\n",
       "      <td>0.0</td>\n",
       "      <td>...</td>\n",
       "      <td>NaN</td>\n",
       "      <td>A</td>\n",
       "      <td>A</td>\n",
       "      <td>A</td>\n",
       "      <td>A</td>\n",
       "      <td>A</td>\n",
       "      <td>A</td>\n",
       "      <td>A</td>\n",
       "      <td>A</td>\n",
       "      <td>A</td>\n",
       "    </tr>\n",
       "  </tbody>\n",
       "</table>\n",
       "<p>5 rows × 167 columns</p>\n",
       "</div>"
      ],
      "text/plain": [
       "   Unnamed: 0                              NU_INSCRICAO  NU_ANO  \\\n",
       "0           1  ed50e8aaa58e7a806c337585efee9ca41f1eb1ad    2016   \n",
       "1           2  2c3acac4b33ec2b195d77e7c04a2d75727fad723    2016   \n",
       "2           3  f4545f8ccb9ff5c8aad7d32951b3f251a26e6568    2016   \n",
       "3           4  3d6ec248fef899c414e77f82d5c6d2bffbeaf7fe    2016   \n",
       "4           5  bf896ac8d3ecadd6dba1dfbf50110afcbf5d3268    2016   \n",
       "\n",
       "   CO_MUNICIPIO_RESIDENCIA NO_MUNICIPIO_RESIDENCIA  CO_UF_RESIDENCIA  \\\n",
       "0                  4314902            Porto Alegre                43   \n",
       "1                  2304707                  Granja                23   \n",
       "2                  2304400               Fortaleza                23   \n",
       "3                  3304557          Rio de Janeiro                33   \n",
       "4                  1302603                  Manaus                13   \n",
       "\n",
       "  SG_UF_RESIDENCIA  NU_IDADE TP_SEXO  TP_ESTADO_CIVIL  ...   Q041  Q042  Q043  \\\n",
       "0               RS        24       M              0.0  ...    5.0     A     A   \n",
       "1               CE        17       F              0.0  ...    NaN     A     A   \n",
       "2               CE        21       F              0.0  ...    NaN     A     A   \n",
       "3               RJ        25       F              0.0  ...    5.0     C     A   \n",
       "4               AM        28       M              0.0  ...    NaN     A     A   \n",
       "\n",
       "  Q044  Q045 Q046  Q047  Q048  Q049  Q050  \n",
       "0    A     A    A     A     A     B     D  \n",
       "1    C     A    B     A     A     C     A  \n",
       "2    A     A    C     A     A     B     A  \n",
       "3    A     A    A     D     A     A     A  \n",
       "4    A     A    A     A     A     A     A  \n",
       "\n",
       "[5 rows x 167 columns]"
      ]
     },
     "execution_count": 3,
     "metadata": {},
     "output_type": "execute_result"
    }
   ],
   "source": [
    "enem.head()"
   ]
  },
  {
   "cell_type": "code",
   "execution_count": 4,
   "metadata": {},
   "outputs": [
    {
     "name": "stdout",
     "output_type": "stream",
     "text": [
      "<class 'pandas.core.frame.DataFrame'>\n",
      "RangeIndex: 13730 entries, 0 to 13729\n",
      "Columns: 167 entries, Unnamed: 0 to Q050\n",
      "dtypes: float64(28), int64(79), object(60)\n",
      "memory usage: 17.5+ MB\n"
     ]
    }
   ],
   "source": [
    "enem.info()"
   ]
  },
  {
   "cell_type": "code",
   "execution_count": 5,
   "metadata": {
    "scrolled": true
   },
   "outputs": [
    {
     "name": "stdout",
     "output_type": "stream",
     "text": [
      "Qt features treino: 167\n",
      "Qt features teste: 47\n"
     ]
    }
   ],
   "source": [
    "# Comparando a quantidade de features do dataframe \"enem\" com os dados de teste\n",
    "print('Qt features treino: {}\\nQt features teste: {}'.format(enem.shape[1], test.shape[1]))"
   ]
  },
  {
   "cell_type": "code",
   "execution_count": 6,
   "metadata": {},
   "outputs": [],
   "source": [
    "# Selecionando as features dos dados de teste e armazenando em uma nova variável\n",
    "features = list(test.columns)\n",
    "features.append('NU_NOTA_MT')"
   ]
  },
  {
   "cell_type": "code",
   "execution_count": 7,
   "metadata": {},
   "outputs": [],
   "source": [
    "# Criando um novo dataset para treino, apenas com as features que também estão nos dados de teste\n",
    "train = enem[features]"
   ]
  },
  {
   "cell_type": "markdown",
   "metadata": {},
   "source": [
    "## Exploração dos dados de treino"
   ]
  },
  {
   "cell_type": "code",
   "execution_count": 8,
   "metadata": {},
   "outputs": [
    {
     "data": {
      "text/html": [
       "<div>\n",
       "<style scoped>\n",
       "    .dataframe tbody tr th:only-of-type {\n",
       "        vertical-align: middle;\n",
       "    }\n",
       "\n",
       "    .dataframe tbody tr th {\n",
       "        vertical-align: top;\n",
       "    }\n",
       "\n",
       "    .dataframe thead th {\n",
       "        text-align: right;\n",
       "    }\n",
       "</style>\n",
       "<table border=\"1\" class=\"dataframe\">\n",
       "  <thead>\n",
       "    <tr style=\"text-align: right;\">\n",
       "      <th></th>\n",
       "      <th>NU_INSCRICAO</th>\n",
       "      <th>CO_UF_RESIDENCIA</th>\n",
       "      <th>SG_UF_RESIDENCIA</th>\n",
       "      <th>NU_IDADE</th>\n",
       "      <th>TP_SEXO</th>\n",
       "      <th>TP_COR_RACA</th>\n",
       "      <th>TP_NACIONALIDADE</th>\n",
       "      <th>TP_ST_CONCLUSAO</th>\n",
       "      <th>TP_ANO_CONCLUIU</th>\n",
       "      <th>TP_ESCOLA</th>\n",
       "      <th>...</th>\n",
       "      <th>NU_NOTA_REDACAO</th>\n",
       "      <th>Q001</th>\n",
       "      <th>Q002</th>\n",
       "      <th>Q006</th>\n",
       "      <th>Q024</th>\n",
       "      <th>Q025</th>\n",
       "      <th>Q026</th>\n",
       "      <th>Q027</th>\n",
       "      <th>Q047</th>\n",
       "      <th>NU_NOTA_MT</th>\n",
       "    </tr>\n",
       "  </thead>\n",
       "  <tbody>\n",
       "    <tr>\n",
       "      <th>0</th>\n",
       "      <td>ed50e8aaa58e7a806c337585efee9ca41f1eb1ad</td>\n",
       "      <td>43</td>\n",
       "      <td>RS</td>\n",
       "      <td>24</td>\n",
       "      <td>M</td>\n",
       "      <td>1</td>\n",
       "      <td>1</td>\n",
       "      <td>1</td>\n",
       "      <td>4</td>\n",
       "      <td>1</td>\n",
       "      <td>...</td>\n",
       "      <td>520.0</td>\n",
       "      <td>D</td>\n",
       "      <td>D</td>\n",
       "      <td>C</td>\n",
       "      <td>A</td>\n",
       "      <td>A</td>\n",
       "      <td>C</td>\n",
       "      <td>H</td>\n",
       "      <td>A</td>\n",
       "      <td>399.4</td>\n",
       "    </tr>\n",
       "    <tr>\n",
       "      <th>1</th>\n",
       "      <td>2c3acac4b33ec2b195d77e7c04a2d75727fad723</td>\n",
       "      <td>23</td>\n",
       "      <td>CE</td>\n",
       "      <td>17</td>\n",
       "      <td>F</td>\n",
       "      <td>3</td>\n",
       "      <td>1</td>\n",
       "      <td>2</td>\n",
       "      <td>0</td>\n",
       "      <td>2</td>\n",
       "      <td>...</td>\n",
       "      <td>580.0</td>\n",
       "      <td>A</td>\n",
       "      <td>A</td>\n",
       "      <td>B</td>\n",
       "      <td>A</td>\n",
       "      <td>A</td>\n",
       "      <td>A</td>\n",
       "      <td>NaN</td>\n",
       "      <td>A</td>\n",
       "      <td>459.8</td>\n",
       "    </tr>\n",
       "    <tr>\n",
       "      <th>2</th>\n",
       "      <td>f4545f8ccb9ff5c8aad7d32951b3f251a26e6568</td>\n",
       "      <td>23</td>\n",
       "      <td>CE</td>\n",
       "      <td>21</td>\n",
       "      <td>F</td>\n",
       "      <td>3</td>\n",
       "      <td>1</td>\n",
       "      <td>3</td>\n",
       "      <td>0</td>\n",
       "      <td>1</td>\n",
       "      <td>...</td>\n",
       "      <td>NaN</td>\n",
       "      <td>D</td>\n",
       "      <td>D</td>\n",
       "      <td>C</td>\n",
       "      <td>A</td>\n",
       "      <td>A</td>\n",
       "      <td>A</td>\n",
       "      <td>NaN</td>\n",
       "      <td>A</td>\n",
       "      <td>NaN</td>\n",
       "    </tr>\n",
       "    <tr>\n",
       "      <th>3</th>\n",
       "      <td>3d6ec248fef899c414e77f82d5c6d2bffbeaf7fe</td>\n",
       "      <td>33</td>\n",
       "      <td>RJ</td>\n",
       "      <td>25</td>\n",
       "      <td>F</td>\n",
       "      <td>0</td>\n",
       "      <td>1</td>\n",
       "      <td>1</td>\n",
       "      <td>9</td>\n",
       "      <td>1</td>\n",
       "      <td>...</td>\n",
       "      <td>NaN</td>\n",
       "      <td>H</td>\n",
       "      <td>E</td>\n",
       "      <td>E</td>\n",
       "      <td>C</td>\n",
       "      <td>B</td>\n",
       "      <td>C</td>\n",
       "      <td>F</td>\n",
       "      <td>D</td>\n",
       "      <td>NaN</td>\n",
       "    </tr>\n",
       "    <tr>\n",
       "      <th>4</th>\n",
       "      <td>bf896ac8d3ecadd6dba1dfbf50110afcbf5d3268</td>\n",
       "      <td>13</td>\n",
       "      <td>AM</td>\n",
       "      <td>28</td>\n",
       "      <td>M</td>\n",
       "      <td>2</td>\n",
       "      <td>1</td>\n",
       "      <td>1</td>\n",
       "      <td>4</td>\n",
       "      <td>1</td>\n",
       "      <td>...</td>\n",
       "      <td>NaN</td>\n",
       "      <td>E</td>\n",
       "      <td>D</td>\n",
       "      <td>C</td>\n",
       "      <td>A</td>\n",
       "      <td>A</td>\n",
       "      <td>B</td>\n",
       "      <td>F</td>\n",
       "      <td>A</td>\n",
       "      <td>NaN</td>\n",
       "    </tr>\n",
       "  </tbody>\n",
       "</table>\n",
       "<p>5 rows × 48 columns</p>\n",
       "</div>"
      ],
      "text/plain": [
       "                               NU_INSCRICAO  CO_UF_RESIDENCIA  \\\n",
       "0  ed50e8aaa58e7a806c337585efee9ca41f1eb1ad                43   \n",
       "1  2c3acac4b33ec2b195d77e7c04a2d75727fad723                23   \n",
       "2  f4545f8ccb9ff5c8aad7d32951b3f251a26e6568                23   \n",
       "3  3d6ec248fef899c414e77f82d5c6d2bffbeaf7fe                33   \n",
       "4  bf896ac8d3ecadd6dba1dfbf50110afcbf5d3268                13   \n",
       "\n",
       "  SG_UF_RESIDENCIA  NU_IDADE TP_SEXO  TP_COR_RACA  TP_NACIONALIDADE  \\\n",
       "0               RS        24       M            1                 1   \n",
       "1               CE        17       F            3                 1   \n",
       "2               CE        21       F            3                 1   \n",
       "3               RJ        25       F            0                 1   \n",
       "4               AM        28       M            2                 1   \n",
       "\n",
       "   TP_ST_CONCLUSAO  TP_ANO_CONCLUIU  TP_ESCOLA     ...      NU_NOTA_REDACAO  \\\n",
       "0                1                4          1     ...                520.0   \n",
       "1                2                0          2     ...                580.0   \n",
       "2                3                0          1     ...                  NaN   \n",
       "3                1                9          1     ...                  NaN   \n",
       "4                1                4          1     ...                  NaN   \n",
       "\n",
       "   Q001  Q002  Q006  Q024  Q025  Q026  Q027  Q047  NU_NOTA_MT  \n",
       "0     D     D     C     A     A     C     H     A       399.4  \n",
       "1     A     A     B     A     A     A   NaN     A       459.8  \n",
       "2     D     D     C     A     A     A   NaN     A         NaN  \n",
       "3     H     E     E     C     B     C     F     D         NaN  \n",
       "4     E     D     C     A     A     B     F     A         NaN  \n",
       "\n",
       "[5 rows x 48 columns]"
      ]
     },
     "execution_count": 8,
     "metadata": {},
     "output_type": "execute_result"
    }
   ],
   "source": [
    "# Visualizando cabeçalho (5 primeiras linhas)\n",
    "train.head()"
   ]
  },
  {
   "cell_type": "code",
   "execution_count": 9,
   "metadata": {},
   "outputs": [
    {
     "name": "stdout",
     "output_type": "stream",
     "text": [
      "<class 'pandas.core.frame.DataFrame'>\n",
      "RangeIndex: 13730 entries, 0 to 13729\n",
      "Data columns (total 48 columns):\n",
      "NU_INSCRICAO              13730 non-null object\n",
      "CO_UF_RESIDENCIA          13730 non-null int64\n",
      "SG_UF_RESIDENCIA          13730 non-null object\n",
      "NU_IDADE                  13730 non-null int64\n",
      "TP_SEXO                   13730 non-null object\n",
      "TP_COR_RACA               13730 non-null int64\n",
      "TP_NACIONALIDADE          13730 non-null int64\n",
      "TP_ST_CONCLUSAO           13730 non-null int64\n",
      "TP_ANO_CONCLUIU           13730 non-null int64\n",
      "TP_ESCOLA                 13730 non-null int64\n",
      "TP_ENSINO                 4282 non-null float64\n",
      "IN_TREINEIRO              13730 non-null int64\n",
      "TP_DEPENDENCIA_ADM_ESC    4282 non-null float64\n",
      "IN_BAIXA_VISAO            13730 non-null int64\n",
      "IN_CEGUEIRA               13730 non-null int64\n",
      "IN_SURDEZ                 13730 non-null int64\n",
      "IN_DISLEXIA               13730 non-null int64\n",
      "IN_DISCALCULIA            13730 non-null int64\n",
      "IN_SABATISTA              13730 non-null int64\n",
      "IN_GESTANTE               13730 non-null int64\n",
      "IN_IDOSO                  13730 non-null int64\n",
      "TP_PRESENCA_CN            13730 non-null int64\n",
      "TP_PRESENCA_CH            13730 non-null int64\n",
      "TP_PRESENCA_LC            13730 non-null int64\n",
      "CO_PROVA_CN               13730 non-null object\n",
      "CO_PROVA_CH               13730 non-null object\n",
      "CO_PROVA_LC               13730 non-null object\n",
      "CO_PROVA_MT               13730 non-null object\n",
      "NU_NOTA_CN                10341 non-null float64\n",
      "NU_NOTA_CH                10341 non-null float64\n",
      "NU_NOTA_LC                10133 non-null float64\n",
      "TP_LINGUA                 13730 non-null int64\n",
      "TP_STATUS_REDACAO         10133 non-null float64\n",
      "NU_NOTA_COMP1             10133 non-null float64\n",
      "NU_NOTA_COMP2             10133 non-null float64\n",
      "NU_NOTA_COMP3             10133 non-null float64\n",
      "NU_NOTA_COMP4             10133 non-null float64\n",
      "NU_NOTA_COMP5             10133 non-null float64\n",
      "NU_NOTA_REDACAO           10133 non-null float64\n",
      "Q001                      13730 non-null object\n",
      "Q002                      13730 non-null object\n",
      "Q006                      13730 non-null object\n",
      "Q024                      13730 non-null object\n",
      "Q025                      13730 non-null object\n",
      "Q026                      13730 non-null object\n",
      "Q027                      6357 non-null object\n",
      "Q047                      13730 non-null object\n",
      "NU_NOTA_MT                10133 non-null float64\n",
      "dtypes: float64(13), int64(20), object(15)\n",
      "memory usage: 5.0+ MB\n"
     ]
    }
   ],
   "source": [
    "# Informação geral dos dados\n",
    "train.info()"
   ]
  },
  {
   "cell_type": "code",
   "execution_count": 10,
   "metadata": {},
   "outputs": [
    {
     "data": {
      "text/plain": [
       "NU_INSCRICAO                 0\n",
       "CO_UF_RESIDENCIA             0\n",
       "SG_UF_RESIDENCIA             0\n",
       "NU_IDADE                     0\n",
       "TP_SEXO                      0\n",
       "TP_COR_RACA                  0\n",
       "TP_NACIONALIDADE             0\n",
       "TP_ST_CONCLUSAO              0\n",
       "TP_ANO_CONCLUIU              0\n",
       "TP_ESCOLA                    0\n",
       "TP_ENSINO                 9448\n",
       "IN_TREINEIRO                 0\n",
       "TP_DEPENDENCIA_ADM_ESC    9448\n",
       "IN_BAIXA_VISAO               0\n",
       "IN_CEGUEIRA                  0\n",
       "IN_SURDEZ                    0\n",
       "IN_DISLEXIA                  0\n",
       "IN_DISCALCULIA               0\n",
       "IN_SABATISTA                 0\n",
       "IN_GESTANTE                  0\n",
       "IN_IDOSO                     0\n",
       "TP_PRESENCA_CN               0\n",
       "TP_PRESENCA_CH               0\n",
       "TP_PRESENCA_LC               0\n",
       "CO_PROVA_CN                  0\n",
       "CO_PROVA_CH                  0\n",
       "CO_PROVA_LC                  0\n",
       "CO_PROVA_MT                  0\n",
       "NU_NOTA_CN                3389\n",
       "NU_NOTA_CH                3389\n",
       "NU_NOTA_LC                3597\n",
       "TP_LINGUA                    0\n",
       "TP_STATUS_REDACAO         3597\n",
       "NU_NOTA_COMP1             3597\n",
       "NU_NOTA_COMP2             3597\n",
       "NU_NOTA_COMP3             3597\n",
       "NU_NOTA_COMP4             3597\n",
       "NU_NOTA_COMP5             3597\n",
       "NU_NOTA_REDACAO           3597\n",
       "Q001                         0\n",
       "Q002                         0\n",
       "Q006                         0\n",
       "Q024                         0\n",
       "Q025                         0\n",
       "Q026                         0\n",
       "Q027                      7373\n",
       "Q047                         0\n",
       "NU_NOTA_MT                3597\n",
       "dtype: int64"
      ]
     },
     "execution_count": 10,
     "metadata": {},
     "output_type": "execute_result"
    }
   ],
   "source": [
    "# Somatório dos dados nulos\n",
    "train.isna().sum()"
   ]
  },
  {
   "cell_type": "code",
   "execution_count": 11,
   "metadata": {},
   "outputs": [
    {
     "data": {
      "text/plain": [
       "3597"
      ]
     },
     "execution_count": 11,
     "metadata": {},
     "output_type": "execute_result"
    }
   ],
   "source": [
    "# Qt de dados nulos da variável target\n",
    "train['NU_NOTA_MT'].isna().sum()"
   ]
  },
  {
   "cell_type": "code",
   "execution_count": 12,
   "metadata": {
    "scrolled": true
   },
   "outputs": [
    {
     "name": "stdout",
     "output_type": "stream",
     "text": [
      "<class 'pandas.core.frame.DataFrame'>\n",
      "Int64Index: 3597 entries, 2 to 13722\n",
      "Data columns (total 48 columns):\n",
      "NU_INSCRICAO              3597 non-null object\n",
      "CO_UF_RESIDENCIA          3597 non-null int64\n",
      "SG_UF_RESIDENCIA          3597 non-null object\n",
      "NU_IDADE                  3597 non-null int64\n",
      "TP_SEXO                   3597 non-null object\n",
      "TP_COR_RACA               3597 non-null int64\n",
      "TP_NACIONALIDADE          3597 non-null int64\n",
      "TP_ST_CONCLUSAO           3597 non-null int64\n",
      "TP_ANO_CONCLUIU           3597 non-null int64\n",
      "TP_ESCOLA                 3597 non-null int64\n",
      "TP_ENSINO                 643 non-null float64\n",
      "IN_TREINEIRO              3597 non-null int64\n",
      "TP_DEPENDENCIA_ADM_ESC    643 non-null float64\n",
      "IN_BAIXA_VISAO            3597 non-null int64\n",
      "IN_CEGUEIRA               3597 non-null int64\n",
      "IN_SURDEZ                 3597 non-null int64\n",
      "IN_DISLEXIA               3597 non-null int64\n",
      "IN_DISCALCULIA            3597 non-null int64\n",
      "IN_SABATISTA              3597 non-null int64\n",
      "IN_GESTANTE               3597 non-null int64\n",
      "IN_IDOSO                  3597 non-null int64\n",
      "TP_PRESENCA_CN            3597 non-null int64\n",
      "TP_PRESENCA_CH            3597 non-null int64\n",
      "TP_PRESENCA_LC            3597 non-null int64\n",
      "CO_PROVA_CN               3597 non-null object\n",
      "CO_PROVA_CH               3597 non-null object\n",
      "CO_PROVA_LC               3597 non-null object\n",
      "CO_PROVA_MT               3597 non-null object\n",
      "NU_NOTA_CN                244 non-null float64\n",
      "NU_NOTA_CH                244 non-null float64\n",
      "NU_NOTA_LC                0 non-null float64\n",
      "TP_LINGUA                 3597 non-null int64\n",
      "TP_STATUS_REDACAO         0 non-null float64\n",
      "NU_NOTA_COMP1             0 non-null float64\n",
      "NU_NOTA_COMP2             0 non-null float64\n",
      "NU_NOTA_COMP3             0 non-null float64\n",
      "NU_NOTA_COMP4             0 non-null float64\n",
      "NU_NOTA_COMP5             0 non-null float64\n",
      "NU_NOTA_REDACAO           0 non-null float64\n",
      "Q001                      3597 non-null object\n",
      "Q002                      3597 non-null object\n",
      "Q006                      3597 non-null object\n",
      "Q024                      3597 non-null object\n",
      "Q025                      3597 non-null object\n",
      "Q026                      3597 non-null object\n",
      "Q027                      2350 non-null object\n",
      "Q047                      3597 non-null object\n",
      "NU_NOTA_MT                0 non-null float64\n",
      "dtypes: float64(13), int64(20), object(15)\n",
      "memory usage: 1.3+ MB\n"
     ]
    }
   ],
   "source": [
    "# Visualização do dataframe no qual as notas de matemática são nulas\n",
    "null_grades = train.loc[train.NU_NOTA_MT.isna()]\n",
    "null_grades.info()"
   ]
  },
  {
   "cell_type": "markdown",
   "metadata": {},
   "source": [
    "Abaixo vamos verificar os valores únicos da coluna numérica `TP_PRESENCA_LC`, a qual indica o tipo da presença do candidato na prova de linguagens e códigos. Estamos usando essa variável para não precisar incluir no dataframe de treino a coluna `TP_PRESENCA_MT`, que indica a presença na prova de matemática, pois as mesmas provas ocorrem no mesmo dia (domingo).\n",
    "\n",
    "As opções de resposta são:\n",
    "- 0: Faltou\n",
    "- 1: Presente\n",
    "- 2: Eliminado"
   ]
  },
  {
   "cell_type": "code",
   "execution_count": 13,
   "metadata": {},
   "outputs": [
    {
     "data": {
      "text/plain": [
       "2"
      ]
     },
     "execution_count": 13,
     "metadata": {},
     "output_type": "execute_result"
    }
   ],
   "source": [
    "# Qt de valores únicos\n",
    "null_grades['TP_PRESENCA_LC'].nunique()"
   ]
  },
  {
   "cell_type": "code",
   "execution_count": 14,
   "metadata": {
    "scrolled": false
   },
   "outputs": [
    {
     "data": {
      "text/plain": [
       "[0, 2]"
      ]
     },
     "execution_count": 14,
     "metadata": {},
     "output_type": "execute_result"
    }
   ],
   "source": [
    "# Quais são esses valores?\n",
    "list(np.unique(null_grades[['TP_PRESENCA_LC']].values))"
   ]
  },
  {
   "cell_type": "markdown",
   "metadata": {},
   "source": [
    "Como já se esperava, os candidatos que tiveram valor nulo nas suas notas de matemática faltaram na prova ou foram eliminados. "
   ]
  },
  {
   "cell_type": "markdown",
   "metadata": {},
   "source": [
    "## Limpeza de dados\n",
    "\n",
    "#### Vamos separar os dados numéricos dos categóricos, para tratá-los separadamente"
   ]
  },
  {
   "cell_type": "code",
   "execution_count": 196,
   "metadata": {},
   "outputs": [],
   "source": [
    "categoric_train = list(train.select_dtypes(exclude='number').columns)\n",
    "numeric_train = list(train.select_dtypes(include='number').columns)\n",
    "categoric_test = list(test.select_dtypes(exclude='number').columns)\n",
    "numeric_test = list(test.select_dtypes(include='number').columns)"
   ]
  },
  {
   "cell_type": "markdown",
   "metadata": {},
   "source": [
    "#### Após separados os tipos de dados, vamos substituí-los por zeros"
   ]
  },
  {
   "cell_type": "code",
   "execution_count": 198,
   "metadata": {
    "scrolled": true
   },
   "outputs": [],
   "source": [
    "train[categoric_train] = train[categoric_train].fillna('0')\n",
    "train[numeric_train] = train[numeric_train].fillna(0)\n",
    "test[categoric_test] = test[categoric_test].fillna('0')\n",
    "test[numeric_test] = test[numeric_test].fillna(0)"
   ]
  },
  {
   "cell_type": "markdown",
   "metadata": {},
   "source": [
    "#### Verificando a alteração"
   ]
  },
  {
   "cell_type": "code",
   "execution_count": 17,
   "metadata": {
    "scrolled": true
   },
   "outputs": [
    {
     "data": {
      "text/html": [
       "<div>\n",
       "<style scoped>\n",
       "    .dataframe tbody tr th:only-of-type {\n",
       "        vertical-align: middle;\n",
       "    }\n",
       "\n",
       "    .dataframe tbody tr th {\n",
       "        vertical-align: top;\n",
       "    }\n",
       "\n",
       "    .dataframe thead th {\n",
       "        text-align: right;\n",
       "    }\n",
       "</style>\n",
       "<table border=\"1\" class=\"dataframe\">\n",
       "  <thead>\n",
       "    <tr style=\"text-align: right;\">\n",
       "      <th></th>\n",
       "      <th>NU_INSCRICAO</th>\n",
       "      <th>CO_UF_RESIDENCIA</th>\n",
       "      <th>SG_UF_RESIDENCIA</th>\n",
       "      <th>NU_IDADE</th>\n",
       "      <th>TP_SEXO</th>\n",
       "      <th>TP_COR_RACA</th>\n",
       "      <th>TP_NACIONALIDADE</th>\n",
       "      <th>TP_ST_CONCLUSAO</th>\n",
       "      <th>TP_ANO_CONCLUIU</th>\n",
       "      <th>TP_ESCOLA</th>\n",
       "      <th>...</th>\n",
       "      <th>NU_NOTA_REDACAO</th>\n",
       "      <th>Q001</th>\n",
       "      <th>Q002</th>\n",
       "      <th>Q006</th>\n",
       "      <th>Q024</th>\n",
       "      <th>Q025</th>\n",
       "      <th>Q026</th>\n",
       "      <th>Q027</th>\n",
       "      <th>Q047</th>\n",
       "      <th>NU_NOTA_MT</th>\n",
       "    </tr>\n",
       "  </thead>\n",
       "  <tbody>\n",
       "    <tr>\n",
       "      <th>0</th>\n",
       "      <td>ed50e8aaa58e7a806c337585efee9ca41f1eb1ad</td>\n",
       "      <td>43</td>\n",
       "      <td>RS</td>\n",
       "      <td>24</td>\n",
       "      <td>M</td>\n",
       "      <td>1</td>\n",
       "      <td>1</td>\n",
       "      <td>1</td>\n",
       "      <td>4</td>\n",
       "      <td>1</td>\n",
       "      <td>...</td>\n",
       "      <td>520.0</td>\n",
       "      <td>D</td>\n",
       "      <td>D</td>\n",
       "      <td>C</td>\n",
       "      <td>A</td>\n",
       "      <td>A</td>\n",
       "      <td>C</td>\n",
       "      <td>H</td>\n",
       "      <td>A</td>\n",
       "      <td>399.4</td>\n",
       "    </tr>\n",
       "    <tr>\n",
       "      <th>1</th>\n",
       "      <td>2c3acac4b33ec2b195d77e7c04a2d75727fad723</td>\n",
       "      <td>23</td>\n",
       "      <td>CE</td>\n",
       "      <td>17</td>\n",
       "      <td>F</td>\n",
       "      <td>3</td>\n",
       "      <td>1</td>\n",
       "      <td>2</td>\n",
       "      <td>0</td>\n",
       "      <td>2</td>\n",
       "      <td>...</td>\n",
       "      <td>580.0</td>\n",
       "      <td>A</td>\n",
       "      <td>A</td>\n",
       "      <td>B</td>\n",
       "      <td>A</td>\n",
       "      <td>A</td>\n",
       "      <td>A</td>\n",
       "      <td>0</td>\n",
       "      <td>A</td>\n",
       "      <td>459.8</td>\n",
       "    </tr>\n",
       "    <tr>\n",
       "      <th>2</th>\n",
       "      <td>f4545f8ccb9ff5c8aad7d32951b3f251a26e6568</td>\n",
       "      <td>23</td>\n",
       "      <td>CE</td>\n",
       "      <td>21</td>\n",
       "      <td>F</td>\n",
       "      <td>3</td>\n",
       "      <td>1</td>\n",
       "      <td>3</td>\n",
       "      <td>0</td>\n",
       "      <td>1</td>\n",
       "      <td>...</td>\n",
       "      <td>0.0</td>\n",
       "      <td>D</td>\n",
       "      <td>D</td>\n",
       "      <td>C</td>\n",
       "      <td>A</td>\n",
       "      <td>A</td>\n",
       "      <td>A</td>\n",
       "      <td>0</td>\n",
       "      <td>A</td>\n",
       "      <td>0.0</td>\n",
       "    </tr>\n",
       "    <tr>\n",
       "      <th>3</th>\n",
       "      <td>3d6ec248fef899c414e77f82d5c6d2bffbeaf7fe</td>\n",
       "      <td>33</td>\n",
       "      <td>RJ</td>\n",
       "      <td>25</td>\n",
       "      <td>F</td>\n",
       "      <td>0</td>\n",
       "      <td>1</td>\n",
       "      <td>1</td>\n",
       "      <td>9</td>\n",
       "      <td>1</td>\n",
       "      <td>...</td>\n",
       "      <td>0.0</td>\n",
       "      <td>H</td>\n",
       "      <td>E</td>\n",
       "      <td>E</td>\n",
       "      <td>C</td>\n",
       "      <td>B</td>\n",
       "      <td>C</td>\n",
       "      <td>F</td>\n",
       "      <td>D</td>\n",
       "      <td>0.0</td>\n",
       "    </tr>\n",
       "    <tr>\n",
       "      <th>4</th>\n",
       "      <td>bf896ac8d3ecadd6dba1dfbf50110afcbf5d3268</td>\n",
       "      <td>13</td>\n",
       "      <td>AM</td>\n",
       "      <td>28</td>\n",
       "      <td>M</td>\n",
       "      <td>2</td>\n",
       "      <td>1</td>\n",
       "      <td>1</td>\n",
       "      <td>4</td>\n",
       "      <td>1</td>\n",
       "      <td>...</td>\n",
       "      <td>0.0</td>\n",
       "      <td>E</td>\n",
       "      <td>D</td>\n",
       "      <td>C</td>\n",
       "      <td>A</td>\n",
       "      <td>A</td>\n",
       "      <td>B</td>\n",
       "      <td>F</td>\n",
       "      <td>A</td>\n",
       "      <td>0.0</td>\n",
       "    </tr>\n",
       "  </tbody>\n",
       "</table>\n",
       "<p>5 rows × 48 columns</p>\n",
       "</div>"
      ],
      "text/plain": [
       "                               NU_INSCRICAO  CO_UF_RESIDENCIA  \\\n",
       "0  ed50e8aaa58e7a806c337585efee9ca41f1eb1ad                43   \n",
       "1  2c3acac4b33ec2b195d77e7c04a2d75727fad723                23   \n",
       "2  f4545f8ccb9ff5c8aad7d32951b3f251a26e6568                23   \n",
       "3  3d6ec248fef899c414e77f82d5c6d2bffbeaf7fe                33   \n",
       "4  bf896ac8d3ecadd6dba1dfbf50110afcbf5d3268                13   \n",
       "\n",
       "  SG_UF_RESIDENCIA  NU_IDADE TP_SEXO  TP_COR_RACA  TP_NACIONALIDADE  \\\n",
       "0               RS        24       M            1                 1   \n",
       "1               CE        17       F            3                 1   \n",
       "2               CE        21       F            3                 1   \n",
       "3               RJ        25       F            0                 1   \n",
       "4               AM        28       M            2                 1   \n",
       "\n",
       "   TP_ST_CONCLUSAO  TP_ANO_CONCLUIU  TP_ESCOLA     ...      NU_NOTA_REDACAO  \\\n",
       "0                1                4          1     ...                520.0   \n",
       "1                2                0          2     ...                580.0   \n",
       "2                3                0          1     ...                  0.0   \n",
       "3                1                9          1     ...                  0.0   \n",
       "4                1                4          1     ...                  0.0   \n",
       "\n",
       "   Q001  Q002  Q006  Q024  Q025  Q026  Q027  Q047  NU_NOTA_MT  \n",
       "0     D     D     C     A     A     C     H     A       399.4  \n",
       "1     A     A     B     A     A     A     0     A       459.8  \n",
       "2     D     D     C     A     A     A     0     A         0.0  \n",
       "3     H     E     E     C     B     C     F     D         0.0  \n",
       "4     E     D     C     A     A     B     F     A         0.0  \n",
       "\n",
       "[5 rows x 48 columns]"
      ]
     },
     "execution_count": 17,
     "metadata": {},
     "output_type": "execute_result"
    }
   ],
   "source": [
    "train.head()"
   ]
  },
  {
   "cell_type": "code",
   "execution_count": 18,
   "metadata": {},
   "outputs": [
    {
     "name": "stdout",
     "output_type": "stream",
     "text": [
      "<class 'pandas.core.frame.DataFrame'>\n",
      "RangeIndex: 13730 entries, 0 to 13729\n",
      "Data columns (total 48 columns):\n",
      "NU_INSCRICAO              13730 non-null object\n",
      "CO_UF_RESIDENCIA          13730 non-null int64\n",
      "SG_UF_RESIDENCIA          13730 non-null object\n",
      "NU_IDADE                  13730 non-null int64\n",
      "TP_SEXO                   13730 non-null object\n",
      "TP_COR_RACA               13730 non-null int64\n",
      "TP_NACIONALIDADE          13730 non-null int64\n",
      "TP_ST_CONCLUSAO           13730 non-null int64\n",
      "TP_ANO_CONCLUIU           13730 non-null int64\n",
      "TP_ESCOLA                 13730 non-null int64\n",
      "TP_ENSINO                 13730 non-null float64\n",
      "IN_TREINEIRO              13730 non-null int64\n",
      "TP_DEPENDENCIA_ADM_ESC    13730 non-null float64\n",
      "IN_BAIXA_VISAO            13730 non-null int64\n",
      "IN_CEGUEIRA               13730 non-null int64\n",
      "IN_SURDEZ                 13730 non-null int64\n",
      "IN_DISLEXIA               13730 non-null int64\n",
      "IN_DISCALCULIA            13730 non-null int64\n",
      "IN_SABATISTA              13730 non-null int64\n",
      "IN_GESTANTE               13730 non-null int64\n",
      "IN_IDOSO                  13730 non-null int64\n",
      "TP_PRESENCA_CN            13730 non-null int64\n",
      "TP_PRESENCA_CH            13730 non-null int64\n",
      "TP_PRESENCA_LC            13730 non-null int64\n",
      "CO_PROVA_CN               13730 non-null object\n",
      "CO_PROVA_CH               13730 non-null object\n",
      "CO_PROVA_LC               13730 non-null object\n",
      "CO_PROVA_MT               13730 non-null object\n",
      "NU_NOTA_CN                13730 non-null float64\n",
      "NU_NOTA_CH                13730 non-null float64\n",
      "NU_NOTA_LC                13730 non-null float64\n",
      "TP_LINGUA                 13730 non-null int64\n",
      "TP_STATUS_REDACAO         13730 non-null float64\n",
      "NU_NOTA_COMP1             13730 non-null float64\n",
      "NU_NOTA_COMP2             13730 non-null float64\n",
      "NU_NOTA_COMP3             13730 non-null float64\n",
      "NU_NOTA_COMP4             13730 non-null float64\n",
      "NU_NOTA_COMP5             13730 non-null float64\n",
      "NU_NOTA_REDACAO           13730 non-null float64\n",
      "Q001                      13730 non-null object\n",
      "Q002                      13730 non-null object\n",
      "Q006                      13730 non-null object\n",
      "Q024                      13730 non-null object\n",
      "Q025                      13730 non-null object\n",
      "Q026                      13730 non-null object\n",
      "Q027                      13730 non-null object\n",
      "Q047                      13730 non-null object\n",
      "NU_NOTA_MT                13730 non-null float64\n",
      "dtypes: float64(13), int64(20), object(15)\n",
      "memory usage: 5.0+ MB\n"
     ]
    }
   ],
   "source": [
    "train.info()"
   ]
  },
  {
   "cell_type": "markdown",
   "metadata": {},
   "source": [
    "#### Vamos plotar agora a variável `NU_INSCRICAO` apenas como índice. Não queremos que o número da inscrição do candidato tenha qualquer influência na previsão da nota que ele vai conseguir, visto que isso não é real."
   ]
  },
  {
   "cell_type": "code",
   "execution_count": 22,
   "metadata": {},
   "outputs": [],
   "source": [
    "train = train.set_index('NU_INSCRICAO')"
   ]
  },
  {
   "cell_type": "code",
   "execution_count": 24,
   "metadata": {
    "scrolled": true
   },
   "outputs": [
    {
     "data": {
      "text/html": [
       "<div>\n",
       "<style scoped>\n",
       "    .dataframe tbody tr th:only-of-type {\n",
       "        vertical-align: middle;\n",
       "    }\n",
       "\n",
       "    .dataframe tbody tr th {\n",
       "        vertical-align: top;\n",
       "    }\n",
       "\n",
       "    .dataframe thead th {\n",
       "        text-align: right;\n",
       "    }\n",
       "</style>\n",
       "<table border=\"1\" class=\"dataframe\">\n",
       "  <thead>\n",
       "    <tr style=\"text-align: right;\">\n",
       "      <th></th>\n",
       "      <th>CO_UF_RESIDENCIA</th>\n",
       "      <th>SG_UF_RESIDENCIA</th>\n",
       "      <th>NU_IDADE</th>\n",
       "      <th>TP_SEXO</th>\n",
       "      <th>TP_COR_RACA</th>\n",
       "      <th>TP_NACIONALIDADE</th>\n",
       "      <th>TP_ST_CONCLUSAO</th>\n",
       "      <th>TP_ANO_CONCLUIU</th>\n",
       "      <th>TP_ESCOLA</th>\n",
       "      <th>TP_ENSINO</th>\n",
       "      <th>...</th>\n",
       "      <th>NU_NOTA_REDACAO</th>\n",
       "      <th>Q001</th>\n",
       "      <th>Q002</th>\n",
       "      <th>Q006</th>\n",
       "      <th>Q024</th>\n",
       "      <th>Q025</th>\n",
       "      <th>Q026</th>\n",
       "      <th>Q027</th>\n",
       "      <th>Q047</th>\n",
       "      <th>NU_NOTA_MT</th>\n",
       "    </tr>\n",
       "    <tr>\n",
       "      <th>NU_INSCRICAO</th>\n",
       "      <th></th>\n",
       "      <th></th>\n",
       "      <th></th>\n",
       "      <th></th>\n",
       "      <th></th>\n",
       "      <th></th>\n",
       "      <th></th>\n",
       "      <th></th>\n",
       "      <th></th>\n",
       "      <th></th>\n",
       "      <th></th>\n",
       "      <th></th>\n",
       "      <th></th>\n",
       "      <th></th>\n",
       "      <th></th>\n",
       "      <th></th>\n",
       "      <th></th>\n",
       "      <th></th>\n",
       "      <th></th>\n",
       "      <th></th>\n",
       "      <th></th>\n",
       "    </tr>\n",
       "  </thead>\n",
       "  <tbody>\n",
       "    <tr>\n",
       "      <th>ed50e8aaa58e7a806c337585efee9ca41f1eb1ad</th>\n",
       "      <td>43</td>\n",
       "      <td>RS</td>\n",
       "      <td>24</td>\n",
       "      <td>M</td>\n",
       "      <td>1</td>\n",
       "      <td>1</td>\n",
       "      <td>1</td>\n",
       "      <td>4</td>\n",
       "      <td>1</td>\n",
       "      <td>0.0</td>\n",
       "      <td>...</td>\n",
       "      <td>520.0</td>\n",
       "      <td>D</td>\n",
       "      <td>D</td>\n",
       "      <td>C</td>\n",
       "      <td>A</td>\n",
       "      <td>A</td>\n",
       "      <td>C</td>\n",
       "      <td>H</td>\n",
       "      <td>A</td>\n",
       "      <td>399.4</td>\n",
       "    </tr>\n",
       "    <tr>\n",
       "      <th>2c3acac4b33ec2b195d77e7c04a2d75727fad723</th>\n",
       "      <td>23</td>\n",
       "      <td>CE</td>\n",
       "      <td>17</td>\n",
       "      <td>F</td>\n",
       "      <td>3</td>\n",
       "      <td>1</td>\n",
       "      <td>2</td>\n",
       "      <td>0</td>\n",
       "      <td>2</td>\n",
       "      <td>1.0</td>\n",
       "      <td>...</td>\n",
       "      <td>580.0</td>\n",
       "      <td>A</td>\n",
       "      <td>A</td>\n",
       "      <td>B</td>\n",
       "      <td>A</td>\n",
       "      <td>A</td>\n",
       "      <td>A</td>\n",
       "      <td>0</td>\n",
       "      <td>A</td>\n",
       "      <td>459.8</td>\n",
       "    </tr>\n",
       "  </tbody>\n",
       "</table>\n",
       "<p>2 rows × 47 columns</p>\n",
       "</div>"
      ],
      "text/plain": [
       "                                          CO_UF_RESIDENCIA SG_UF_RESIDENCIA  \\\n",
       "NU_INSCRICAO                                                                  \n",
       "ed50e8aaa58e7a806c337585efee9ca41f1eb1ad                43               RS   \n",
       "2c3acac4b33ec2b195d77e7c04a2d75727fad723                23               CE   \n",
       "\n",
       "                                          NU_IDADE TP_SEXO  TP_COR_RACA  \\\n",
       "NU_INSCRICAO                                                              \n",
       "ed50e8aaa58e7a806c337585efee9ca41f1eb1ad        24       M            1   \n",
       "2c3acac4b33ec2b195d77e7c04a2d75727fad723        17       F            3   \n",
       "\n",
       "                                          TP_NACIONALIDADE  TP_ST_CONCLUSAO  \\\n",
       "NU_INSCRICAO                                                                  \n",
       "ed50e8aaa58e7a806c337585efee9ca41f1eb1ad                 1                1   \n",
       "2c3acac4b33ec2b195d77e7c04a2d75727fad723                 1                2   \n",
       "\n",
       "                                          TP_ANO_CONCLUIU  TP_ESCOLA  \\\n",
       "NU_INSCRICAO                                                           \n",
       "ed50e8aaa58e7a806c337585efee9ca41f1eb1ad                4          1   \n",
       "2c3acac4b33ec2b195d77e7c04a2d75727fad723                0          2   \n",
       "\n",
       "                                          TP_ENSINO     ...      \\\n",
       "NU_INSCRICAO                                            ...       \n",
       "ed50e8aaa58e7a806c337585efee9ca41f1eb1ad        0.0     ...       \n",
       "2c3acac4b33ec2b195d77e7c04a2d75727fad723        1.0     ...       \n",
       "\n",
       "                                          NU_NOTA_REDACAO  Q001  Q002  Q006  \\\n",
       "NU_INSCRICAO                                                                  \n",
       "ed50e8aaa58e7a806c337585efee9ca41f1eb1ad            520.0     D     D     C   \n",
       "2c3acac4b33ec2b195d77e7c04a2d75727fad723            580.0     A     A     B   \n",
       "\n",
       "                                          Q024  Q025  Q026  Q027  Q047  \\\n",
       "NU_INSCRICAO                                                             \n",
       "ed50e8aaa58e7a806c337585efee9ca41f1eb1ad     A     A     C     H     A   \n",
       "2c3acac4b33ec2b195d77e7c04a2d75727fad723     A     A     A     0     A   \n",
       "\n",
       "                                          NU_NOTA_MT  \n",
       "NU_INSCRICAO                                          \n",
       "ed50e8aaa58e7a806c337585efee9ca41f1eb1ad       399.4  \n",
       "2c3acac4b33ec2b195d77e7c04a2d75727fad723       459.8  \n",
       "\n",
       "[2 rows x 47 columns]"
      ]
     },
     "execution_count": 24,
     "metadata": {},
     "output_type": "execute_result"
    }
   ],
   "source": [
    "train.head(2)"
   ]
  },
  {
   "cell_type": "markdown",
   "metadata": {},
   "source": [
    "#### Verificando a correlação das variáveis com a variável target `NU_NOTA_MT`"
   ]
  },
  {
   "cell_type": "code",
   "execution_count": 95,
   "metadata": {},
   "outputs": [],
   "source": [
    "corr = train.corr()"
   ]
  },
  {
   "cell_type": "markdown",
   "metadata": {},
   "source": [
    "\n",
    "A correlação das variáveis com a variável nota de matemática estão em ordem decrescente, ou seja, as variáveis com uma correlação mais forte aparecem de cima para baixo\n"
   ]
  },
  {
   "cell_type": "code",
   "execution_count": 107,
   "metadata": {
    "scrolled": true
   },
   "outputs": [
    {
     "data": {
      "image/png": "[encoded data removed]",
      "text/plain": [
       "<Figure size 432x432 with 2 Axes>"
      ]
     },
     "metadata": {},
     "output_type": "display_data"
    }
   ],
   "source": [
    "plt.figure(figsize=(6,6))\n",
    "sns.heatmap(corr[['NU_NOTA_MT']].sort_values(by=['NU_NOTA_MT'],ascending=False),\n",
    "            vmin=-1,\n",
    "            cmap='coolwarm',\n",
    "            annot=True);"
   ]
  },
  {
   "cell_type": "markdown",
   "metadata": {},
   "source": [
    "#### Vamos filtrar apenas as variáveis com uma força de correlação maior que 0.5"
   ]
  },
  {
   "cell_type": "code",
   "execution_count": 161,
   "metadata": {},
   "outputs": [],
   "source": [
    "corr_columns = corr[(corr['NU_NOTA_MT'] >= 0.5) & (corr['NU_NOTA_MT'] < 1.0)]"
   ]
  },
  {
   "cell_type": "code",
   "execution_count": 162,
   "metadata": {
    "scrolled": false
   },
   "outputs": [
    {
     "data": {
      "image/png": "[encoded data removed]",
      "text/plain": [
       "<Figure size 432x432 with 2 Axes>"
      ]
     },
     "metadata": {},
     "output_type": "display_data"
    }
   ],
   "source": [
    "plt.figure(figsize=(6,6))\n",
    "sns.heatmap(corr_columns[['NU_NOTA_MT']].sort_values(by=['NU_NOTA_MT'],ascending=False), vmin=-1, cmap='coolwarm', annot=True);"
   ]
  },
  {
   "cell_type": "code",
   "execution_count": 176,
   "metadata": {},
   "outputs": [
    {
     "data": {
      "text/plain": [
       "['TP_PRESENCA_CN',\n",
       " 'TP_PRESENCA_CH',\n",
       " 'TP_PRESENCA_LC',\n",
       " 'NU_NOTA_CN',\n",
       " 'NU_NOTA_CH',\n",
       " 'NU_NOTA_LC',\n",
       " 'TP_STATUS_REDACAO',\n",
       " 'NU_NOTA_COMP1',\n",
       " 'NU_NOTA_COMP2',\n",
       " 'NU_NOTA_COMP3',\n",
       " 'NU_NOTA_COMP4',\n",
       " 'NU_NOTA_COMP5',\n",
       " 'NU_NOTA_REDACAO']"
      ]
     },
     "execution_count": 176,
     "metadata": {},
     "output_type": "execute_result"
    }
   ],
   "source": [
    "# Adicionando as colunas mais correlacionadas a uma lista\n",
    "features = corr[(corr['NU_NOTA_MT'] >= 0.5) & (corr['NU_NOTA_MT'] < 1.0)]['NU_NOTA_MT']\n",
    "features = features.index.tolist()\n",
    "features"
   ]
  },
  {
   "cell_type": "markdown",
   "metadata": {},
   "source": [
    "## Treino do modelo"
   ]
  },
  {
   "cell_type": "markdown",
   "metadata": {},
   "source": [
    "#### Vamos criar agora o `X` e o `Y` para treinar o modelo"
   ]
  },
  {
   "cell_type": "code",
   "execution_count": 201,
   "metadata": {},
   "outputs": [],
   "source": [
    "#Separando as variáveis explicativas da variável alvo\n",
    "x_train = train[features]\n",
    "y_train = train['NU_NOTA_MT']\n",
    "x_test = test[features]"
   ]
  },
  {
   "cell_type": "code",
   "execution_count": 186,
   "metadata": {},
   "outputs": [],
   "source": [
    "pipelines = []\n",
    "pipelines.append(('LR', Pipeline([('Scaler', MinMaxScaler()),('LR',LinearRegression())])))\n",
    "pipelines.append(('KNN', Pipeline([('Scaler', MinMaxScaler()),('KNN', KNeighborsRegressor())])))\n",
    "pipelines.append(('DTR', Pipeline([('Scaler', MinMaxScaler()),('DTR', DecisionTreeRegressor())])))\n",
    "pipelines.append(('GBM', Pipeline([('Scaler', MinMaxScaler()),('GBM', GradientBoostingRegressor())])))\n",
    "pipelines.append(('RFR', Pipeline([('Scaler', MinMaxScaler()),('RFR', RandomForestRegressor())])))"
   ]
  },
  {
   "cell_type": "code",
   "execution_count": 187,
   "metadata": {},
   "outputs": [],
   "source": [
    "def validaPerformanceModelos(pipelines,x_train,y_train):\n",
    "    results = []\n",
    "    names = []\n",
    "    for name, model in pipelines:\n",
    "        kfold = KFold(n_splits=5, random_state=21, shuffle=True)\n",
    "        cv_results = cross_val_score(model, x_train, y_train, cv=kfold, scoring='neg_mean_squared_error')\n",
    "        results.append(cv_results)\n",
    "        names.append(name)\n",
    "        msg = \"%s: %f (%f)\" % (name, cv_results.mean(), cv_results.std())\n",
    "        print(msg)"
   ]
  },
  {
   "cell_type": "code",
   "execution_count": 188,
   "metadata": {},
   "outputs": [
    {
     "name": "stdout",
     "output_type": "stream",
     "text": [
      "LR: -4723.960519 (162.692530)\n",
      "KNN: -5112.077303 (100.999282)\n",
      "DTR: -8443.241889 (460.826889)\n",
      "GBM: -4077.045839 (69.099119)\n",
      "RFR: -4379.816584 (87.817116)\n"
     ]
    }
   ],
   "source": [
    "validaPerformanceModelos(pipelines, x_train, y_train)"
   ]
  },
  {
   "cell_type": "code",
   "execution_count": 189,
   "metadata": {},
   "outputs": [],
   "source": [
    "# Gradient Boost\n",
    "pipe_GBM = Pipeline([('scaler', StandardScaler()),\n",
    " ('GradientBoostingRegressor', GradientBoostingRegressor())])"
   ]
  },
  {
   "cell_type": "code",
   "execution_count": 190,
   "metadata": {},
   "outputs": [],
   "source": [
    "CV_pipe_GBM = RandomizedSearchCV(estimator = pipe_GBM, param_distributions = {},cv = 5,return_train_score=\n",
    "True, verbose=0)"
   ]
  },
  {
   "cell_type": "code",
   "execution_count": 203,
   "metadata": {},
   "outputs": [
    {
     "name": "stderr",
     "output_type": "stream",
     "text": [
      "c:\\users\\usuario\\codenation\\venv\\lib\\site-packages\\sklearn\\model_selection\\_search.py:282: UserWarning: The total space of parameters 1 is smaller than n_iter=10. Running 1 iterations. For exhaustive searches, use GridSearchCV.\n",
      "  % (grid_size, self.n_iter, grid_size), UserWarning)\n"
     ]
    }
   ],
   "source": [
    "# Gradient Boost\n",
    "CV_pipe_GBM.fit(x_train, y_train)\n",
    "ypred = CV_pipe_GBM.predict(x_test)"
   ]
  },
  {
   "cell_type": "markdown",
   "metadata": {},
   "source": [
    "#### Criando dataset de resposta"
   ]
  },
  {
   "cell_type": "code",
   "execution_count": 204,
   "metadata": {},
   "outputs": [],
   "source": [
    "df_result = pd.DataFrame()\n",
    "\n",
    "# Adicionando número de inscrição a ser salvo no arquivo de resposta final\n",
    "df_result['NU_INSCRICAO'] = test['NU_INSCRICAO']"
   ]
  },
  {
   "cell_type": "code",
   "execution_count": 205,
   "metadata": {},
   "outputs": [],
   "source": [
    "df_result['NU_NOTA_MT'] = np.around(ypred,2)"
   ]
  },
  {
   "cell_type": "code",
   "execution_count": 206,
   "metadata": {},
   "outputs": [],
   "source": [
    "df_result.to_csv('answer.csv', index=False, header=True)"
   ]
  },
  {
   "cell_type": "code",
   "execution_count": null,
   "metadata": {},
   "outputs": [],
   "source": []
  }
 ],
 "metadata": {
  "kernelspec": {
   "display_name": "Python 3",
   "language": "python",
   "name": "python3"
  },
  "language_info": {
   "codemirror_mode": {
    "name": "ipython",
    "version": 3
   },
   "file_extension": ".py",
   "mimetype": "text/x-python",
   "name": "python",
   "nbconvert_exporter": "python",
   "pygments_lexer": "ipython3",
   "version": "3.6.6"
  }
 },
 "nbformat": 4,
 "nbformat_minor": 2
}
